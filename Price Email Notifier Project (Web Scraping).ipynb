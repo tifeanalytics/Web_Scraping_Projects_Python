{
 "cells": [
  {
   "cell_type": "code",
   "execution_count": 23,
   "id": "6cfef333",
   "metadata": {},
   "outputs": [],
   "source": [
    "# import libraries \n",
    "\n",
    "from bs4 import BeautifulSoup\n",
    "import requests\n",
    "import time\n",
    "\n",
    "# To send email\n",
    "\n",
    "import smtplib"
   ]
  },
  {
   "cell_type": "code",
   "execution_count": null,
   "id": "1765aa83",
   "metadata": {},
   "outputs": [],
   "source": [
    "while True:\n",
    "    \n",
    "    URL = 'https://books.toscrape.com/catalogue/the-boys-in-the-boat-nine-americans-and-their-epic-quest-for-gold-at-the-1936-berlin-olympics_992/index.html'\n",
    "\n",
    "    page = requests.get(URL)\n",
    "\n",
    "    soup = BeautifulSoup(page.content, 'html.parser')\n",
    "\n",
    "    book_name = soup.find('h1').text\n",
    "\n",
    "    book_price = float(soup.find('p', class_='price_color').text[1:])\n",
    "\n",
    "\n",
    "\n",
    "    if book_price < 15:\n",
    "        \n",
    "        smt = smtplib.SMTP('smtp.mail.yahoo.com', 587)\n",
    "        smt.ehlo()\n",
    "        smt.starttls()\n",
    "        smt.login('doctordre207@yahoo.com', 'twrbnmkqvfffvxbs')\n",
    "        smt.sendmail('doctordre207@yahoo.com',\n",
    "                    'tifecovenant@gmail.com',\n",
    "                    f\"Subject: Book Price Notifier\\n\\n Hey, {book_name} price has dropped to {book_price}. Go buy it Now!\")\n",
    "        smt.quit()\n",
    "    \n",
    "# Automate the program to send me an email every day when (if) my target book price drops below $15\n",
    "\n",
    "time.sleep(24*60*60)"
   ]
  }
 ],
 "metadata": {
  "kernelspec": {
   "display_name": "Python 3 (ipykernel)",
   "language": "python",
   "name": "python3"
  },
  "language_info": {
   "codemirror_mode": {
    "name": "ipython",
    "version": 3
   },
   "file_extension": ".py",
   "mimetype": "text/x-python",
   "name": "python",
   "nbconvert_exporter": "python",
   "pygments_lexer": "ipython3",
   "version": "3.9.12"
  }
 },
 "nbformat": 4,
 "nbformat_minor": 5
}
