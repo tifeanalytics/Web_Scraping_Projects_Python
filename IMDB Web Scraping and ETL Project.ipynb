{
 "cells": [
  {
   "cell_type": "code",
   "execution_count": 66,
   "id": "aa507aa7",
   "metadata": {},
   "outputs": [],
   "source": [
    "# Import libraries\n",
    "\n",
    "from bs4 import BeautifulSoup\n",
    "import requests, openpyxl"
   ]
  },
  {
   "cell_type": "code",
   "execution_count": 75,
   "id": "3281109c",
   "metadata": {},
   "outputs": [],
   "source": [
    "excel = openpyxl.Workbook()\n",
    "sheet = excel.active\n",
    "sheet.title = 'Top Rated Movies'\n",
    "sheet.append(['Movie Rank', 'Movie Name', 'Year of Release', 'IMDB Rating'])"
   ]
  },
  {
   "cell_type": "code",
   "execution_count": 76,
   "id": "f4442977",
   "metadata": {},
   "outputs": [],
   "source": [
    "try:\n",
    "    source = requests.get('https://www.imdb.com/chart/top/?ref_=nv_mv_250')\n",
    "    source.raise_for_status()\n",
    "    \n",
    "    soup = BeautifulSoup(source.text, 'html.parser')\n",
    "    \n",
    "    # Access html reference of parent body and class attribute of movies stored in table body (tbody)\n",
    "    \n",
    "    movies = soup.find('tbody', class_='lister-list')\n",
    "    \n",
    "    # Access ALL rows of movies stored in table row (tr) inside table body\n",
    "    \n",
    "    movies_list = movies.find_all('tr')\n",
    "    \n",
    "    # Access individual movies in list\n",
    "    \n",
    "    for movie in movies_list:\n",
    "        \n",
    "        name = movie.find('td', class_='titleColumn').a.text    #Access the text in the anchor (a) tag\n",
    "        \n",
    "        rank = movie.find('td', class_='titleColumn').get_text(strip=True).split('.')[0]\n",
    "        \n",
    "        year = movie.find('td', class_='titleColumn').span.text.strip('()')\n",
    "            \n",
    "        rating = movie.find('td', class_='ratingColumn imdbRating').strong.text\n",
    "    \n",
    "        sheet.append([rank, name, year, rating])\n",
    "            \n",
    "except Exception as e:\n",
    "    e   \n",
    "excel.save('IMDB Top 250 Movies')"
   ]
  }
 ],
 "metadata": {
  "kernelspec": {
   "display_name": "Python 3 (ipykernel)",
   "language": "python",
   "name": "python3"
  },
  "language_info": {
   "codemirror_mode": {
    "name": "ipython",
    "version": 3
   },
   "file_extension": ".py",
   "mimetype": "text/x-python",
   "name": "python",
   "nbconvert_exporter": "python",
   "pygments_lexer": "ipython3",
   "version": "3.9.12"
  }
 },
 "nbformat": 4,
 "nbformat_minor": 5
}
