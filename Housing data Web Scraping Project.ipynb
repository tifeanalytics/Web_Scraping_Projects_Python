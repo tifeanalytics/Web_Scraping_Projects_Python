{
 "cells": [
  {
   "cell_type": "code",
   "execution_count": 16,
   "id": "7a9b6238",
   "metadata": {},
   "outputs": [],
   "source": [
    "# import libraries\n",
    "\n",
    "from bs4 import BeautifulSoup\n",
    "import requests\n",
    "from csv import writer\n"
   ]
  },
  {
   "cell_type": "code",
   "execution_count": 17,
   "id": "eeeb4264",
   "metadata": {},
   "outputs": [],
   "source": [
    "URL = 'https://www.pararius.com/apartments/amsterdam?ac=1'\n",
    "\n",
    "page = requests.get(URL)\n",
    "\n",
    "soup = BeautifulSoup(page.content, 'html.parser')\n",
    "\n",
    "lists = soup.find_all('section', class_='listing-search-item')\n",
    "\n",
    "\n",
    "with open('housing.csv', 'w', encoding='UTF8', newline='') as f:\n",
    "    \n",
    "    writer = writer(f)\n",
    "    header = ['Title', 'Location', 'Price', 'Area']\n",
    "    writer.writerow(header)\n",
    "    \n",
    "    for list in lists:\n",
    "\n",
    "        title = list.find('a', class_='listing-search-item__link--title').text\n",
    "\n",
    "        location = list.find('div', class_='listing-search-item__location').text\n",
    "\n",
    "        price = list.find('div', class_='listing-search-item__price').text\n",
    "\n",
    "        area = list.find('li', class_='illustrated-features__item--surface-area').text\n",
    "\n",
    "        title = title.strip()\n",
    "        location = location.strip()\n",
    "        price = price.strip()\n",
    "        area = area.strip()\n",
    "        \n",
    "        # Place derived individual information into a list as scraped data\n",
    "        \n",
    "        info = [title, location, price, area]\n",
    "        \n",
    "        # Write the data into the csv file\n",
    "        \n",
    "        writer.writerow(info)\n"
   ]
  }
 ],
 "metadata": {
  "kernelspec": {
   "display_name": "Python 3 (ipykernel)",
   "language": "python",
   "name": "python3"
  },
  "language_info": {
   "codemirror_mode": {
    "name": "ipython",
    "version": 3
   },
   "file_extension": ".py",
   "mimetype": "text/x-python",
   "name": "python",
   "nbconvert_exporter": "python",
   "pygments_lexer": "ipython3",
   "version": "3.9.12"
  }
 },
 "nbformat": 4,
 "nbformat_minor": 5
}
