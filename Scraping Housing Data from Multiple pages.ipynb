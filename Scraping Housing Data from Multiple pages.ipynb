{
 "cells": [
  {
   "cell_type": "code",
   "execution_count": 2,
   "id": "d7636973",
   "metadata": {},
   "outputs": [],
   "source": [
    "# import libraries\n",
    "\n",
    "from bs4 import BeautifulSoup\n",
    "import requests\n",
    "from csv import writer\n"
   ]
  },
  {
   "cell_type": "code",
   "execution_count": null,
   "id": "3ecacb9c",
   "metadata": {
    "scrolled": true
   },
   "outputs": [],
   "source": [
    "# Getting housing info from first 10 pages of the Website\n",
    "\n",
    "webpage = 1\n",
    "\n",
    "while webpage <= 10:\n",
    "    \n",
    "    URL = f'https://www.pararius.com/apartments/amsterdam/page-{webpage}'\n",
    "\n",
    "    page = requests.get(URL)\n",
    "\n",
    "    soup = BeautifulSoup(page.content, 'html.parser')\n",
    "\n",
    "    lists = soup.find_all('section', class_='listing-search-item')\n",
    "\n",
    "\n",
    "with open('housinginfo.csv', 'w', encoding='UTF8', newline='') as f:\n",
    "    \n",
    "    writer = writer(f)\n",
    "    header = ['Title', 'Location', 'Price', 'Area']\n",
    "    writer.writerow(header)\n",
    "    \n",
    "    for list in lists:\n",
    "\n",
    "        title = list.find('a', class_='listing-search-item__link--title').text\n",
    "\n",
    "        location = list.find('div', class_='listing-search-item__location').text\n",
    "\n",
    "        price = list.find('div', class_='listing-search-item__price').text\n",
    "\n",
    "        area = list.find('li', class_='illustrated-features__item--surface-area').text\n",
    "\n",
    "        title = title.strip()\n",
    "        location = location.strip()\n",
    "        price = price.strip()\n",
    "        area = area.strip()\n",
    "\n",
    "        info = [title, location, price, area]\n",
    "        writer.writerow(info)\n"
   ]
  }
 ],
 "metadata": {
  "kernelspec": {
   "display_name": "Python 3 (ipykernel)",
   "language": "python",
   "name": "python3"
  },
  "language_info": {
   "codemirror_mode": {
    "name": "ipython",
    "version": 3
   },
   "file_extension": ".py",
   "mimetype": "text/x-python",
   "name": "python",
   "nbconvert_exporter": "python",
   "pygments_lexer": "ipython3",
   "version": "3.9.12"
  }
 },
 "nbformat": 4,
 "nbformat_minor": 5
}
